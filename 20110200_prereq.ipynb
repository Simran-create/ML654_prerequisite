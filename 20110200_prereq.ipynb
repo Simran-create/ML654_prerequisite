{
  "nbformat": 4,
  "nbformat_minor": 0,
  "metadata": {
    "colab": {
      "provenance": [],
      "authorship_tag": "ABX9TyNQR9WdjEuH22CPGlM/uaoG",
      "include_colab_link": true
    },
    "kernelspec": {
      "name": "python3",
      "display_name": "Python 3"
    },
    "language_info": {
      "name": "python"
    }
  },
  "cells": [
    {
      "cell_type": "markdown",
      "metadata": {
        "id": "view-in-github",
        "colab_type": "text"
      },
      "source": [
        "<a href=\"https://colab.research.google.com/github/Simran-create/ML654_prerequisite/blob/main/20110200_prereq.ipynb\" target=\"_parent\"><img src=\"https://colab.research.google.com/assets/colab-badge.svg\" alt=\"Open In Colab\"/></a>"
      ]
    },
    {
      "cell_type": "markdown",
      "source": [
        "**Simran Saini   20110200**\n",
        "\n",
        "Q4. What is the gradient of the following function with respect to x and y?\n",
        "\n",
        "$x^{2}y+ y^{3}sin(x)$\n",
        "\n",
        "Ans.  w.r.t x, gradient is -> $2xy+ y^{3}cos(x)$\n",
        "\n",
        "w.r.t. y, gradient is -> $x^{2}+3xy^{2}sin(x)$\n"
      ],
      "metadata": {
        "id": "9NoUJ8ZZ9CSs"
      }
    },
    {
      "cell_type": "code",
      "source": [
        "import jax.numpy as jnp\n",
        "from jax import grad, jit, vmap\n",
        "from jax import random\n",
        "\n",
        "def func(x,y):\n",
        "    return x*x*y + (y**3)*()"
      ],
      "metadata": {
        "id": "f2O7CwgH-fLr"
      },
      "execution_count": null,
      "outputs": []
    },
    {
      "cell_type": "markdown",
      "source": [
        "**Q9.** Using matplotlib plot the following functions on the domain: x = 0.5 to 100.0 in steps of 0.5. \n",
        "1. y = x\n",
        "2. $y = x^{2}$\n",
        "3. $y = \\frac{x^{3}}{100}$\n",
        "4. $y = sin(x)$\n",
        "5. $y = \\frac{sin(x)}{x}$\n",
        "\n",
        "6. $ y = \\frac{log(x)}{x}$\n",
        "7. $y = e^{x}$"
      ],
      "metadata": {
        "id": "nexlc84tA5ea"
      }
    },
    {
      "cell_type": "code",
      "source": [
        "import matplotlib.pyplot as plt\n",
        "import numpy as np\n",
        "x = np.arange(0.5, 100.0, 0.5)\n",
        "y = x\n",
        "plt.plot(x, y)\n",
        "plt.title(\" y = x\")\n",
        "plt.xlabel(\"Values of x\")\n",
        "plt.ylabel(\"Values of y\")\n",
        "plt.show() \n",
        "print(\"1.\",end= \"\\n\") \n",
        "\n",
        "y = x*x\n",
        "plt.plot(x, y)\n",
        "plt.title(\"y = x*x\")\n",
        "plt.xlabel(\"Values of x\")\n",
        "plt.ylabel(\"Values of y\")\n",
        "plt.show() \n",
        "print(\"2.\",end= \"\\n\") \n",
        "\n",
        "y = x**3\n",
        "plt.plot(x, y)\n",
        "plt.title(\"y = x**3\")\n",
        "plt.xlabel(\"Values of x\")\n",
        "plt.ylabel(\"Values of y\")\n",
        "plt.show()\n",
        "print(\"3.\",end= \"\\n\") \n",
        "\n",
        "y = np.sin(x)\n",
        "plt.plot(x, y)\n",
        "plt.title(\"y = sin(x)\")\n",
        "plt.xlabel(\"Values of x\")\n",
        "plt.ylabel(\"Values of y\")\n",
        "plt.show() \n",
        "print(\"4.\",end= \"\\n\") \n",
        "\n",
        "y = np.sin(x)/x\n",
        "plt.plot(x, y)\n",
        "plt.title(\"y = sin(x)/x\")\n",
        "plt.xlabel(\"Values of x\")\n",
        "plt.ylabel(\"Values of y\")\n",
        "plt.show() \n",
        "print(\"5.\",end= \"\\n\") \n",
        "\n",
        "y = np.log(x)/x\n",
        "plt.plot(x, y)\n",
        "plt.title(\"y = log(x)/ x\")\n",
        "plt.xlabel(\"Values of x\")\n",
        "plt.ylabel(\"Values of y\")\n",
        "plt.show() \n",
        "print(\"6.\",end= \"\\n\") \n",
        "\n",
        "y = np.exp(x)\n",
        "plt.plot(x, y)\n",
        "plt.title(\"y = e**x\")\n",
        "plt.xlabel(\"Values of x\")\n",
        "plt.ylabel(\"Values of y\")\n",
        "plt.show() \n",
        "print(\"7.\",end= \"\\n\") \n"
      ],
      "metadata": {
        "id": "RzNDxewt6L4D"
      },
      "execution_count": null,
      "outputs": []
    },
    {
      "cell_type": "markdown",
      "source": [
        "**Q1.** How many multiplications and additions do you need to perform a matrix multiplication between a (n, k) and (k, m) matrix? Explain.\n",
        "\n",
        "Ans. M1 = matrix(n,k),  M2 = matrix(k,m) \n",
        "\n",
        "M3 = M1*M2\n",
        "\n",
        "m times, **each row** of M1 will multiply with **one column** of M2 (1st column to mth column).\n",
        "\n",
        "=> There will be k multiplications for each row.\n",
        "\n",
        "For every element that formed in M3, there is k-1 additions.\n",
        "\n",
        "```\n",
        "# There will be a total of n*m*k multiplications.\n",
        "# There will be a total of n*m*(k-1) additions.\n",
        "\n",
        "```"
      ],
      "metadata": {
        "id": "sMprXcijNHhC"
      }
    },
    {
      "cell_type": "markdown",
      "source": [
        "**Q2** Write Python code to multiply the above two matrices. Solve using list of lists and then use numpy. Compare the timing of both solutions. Which one is faster? Why?\n",
        "\n",
        "Ans. Numpy is written in C code, its means it can use lower level hardware optimizations to improve execution speed. Where list by lists application is a solely python code, so normaally is performs poorer than Numpy solution."
      ],
      "metadata": {
        "id": "mylnmReboknp"
      }
    },
    {
      "cell_type": "code",
      "source": [
        "def matrix_multiply(A, B):\n",
        "    if len(A[0]) != len(B):\n",
        "        raise ValueError(\"Not in compatible dimensions\")\n",
        "\n",
        "    C = [[0 for j in range(len(B[0]))] for i in range(len(A))]\n",
        "    for i in range(len(A)):\n",
        "        for j in range(len(B[0])):\n",
        "            for k in range(len(B)):\n",
        "                C[i][j] += A[i][k] * B[k][j]\n",
        "    return C\n",
        "\n",
        "\n",
        "import numpy as np\n",
        "def matrix_multiply(A, B):\n",
        "    A = np.array(A)\n",
        "    B = np.array(B)\n",
        "    if A.shape[1] != B.shape[0]:\n",
        "        raise ValueError(\"Not in compatible dimensions\")\n",
        "    return A @ B\n",
        "\n",
        "    \n",
        "import timeit\n",
        "zrr = [[1, 2, 3], [4, 5, 6]]\n",
        "arr = [[7], [8], [9]]\n",
        "\n",
        "list_time = timeit.timeit(lambda: matrix_multiply(zrr,arr), number=10000)\n",
        "numpy_time = timeit.timeit(lambda: matrix_multiply(zrr,arr), number=10000)\n",
        "\n",
        "print(f\"List by list: {list_time:.6f} seconds\")\n",
        "print(f\"numpy library: {numpy_time:.6f} seconds\")\n"
      ],
      "metadata": {
        "id": "37TktpzSRY1B",
        "colab": {
          "base_uri": "https://localhost:8080/"
        },
        "outputId": "d45df418-d3d6-4187-84d9-760364f770be"
      },
      "execution_count": 6,
      "outputs": [
        {
          "output_type": "stream",
          "name": "stdout",
          "text": [
            "List by list: 0.061051 seconds\n",
            "numpy library: 0.060511 seconds\n"
          ]
        }
      ]
    },
    {
      "cell_type": "markdown",
      "source": [
        "**Q10** Using numpy generate a matrix of size 20X5 containing random numbers drawn uniformly from the range of 1 to 2. Using Pandas create a dataframe out of this matrix. Name the columns of the dataframe as “a”, “b”, “c”, “d”, “e”. Find the column with the highest standard deviation. Find the row with the lowest mean."
      ],
      "metadata": {
        "id": "FW7MuFbJSyIG"
      }
    },
    {
      "cell_type": "code",
      "source": [
        "import numpy as np\n",
        "import pandas as pd\n",
        "array = np.random.uniform(1,2, size=(5,20))\n",
        "\n",
        "pd.DataFrame({\"a\": array[:][0],  \"b\":array[1][:],  \"c\":array[2][:],  \"d\":array[3][:],  \"e\":array[4][:]})\n"
      ],
      "metadata": {
        "id": "oAqMUxacS4Xm"
      },
      "execution_count": null,
      "outputs": []
    },
    {
      "cell_type": "markdown",
      "source": [
        "**Q12** Write a small piece of code to explain broadcasting in numpy.\n",
        "\n",
        "Ans. Broadcasting is a method by which NumPy handles arrays of different shapes to make them of compatible shapes. Resticted by some constraints, usually the smaller array can \"broadcast\"/stretch according to the larger one.\n",
        "\n",
        "Two dimensions are compatible **A.** when they are equal, or **B.** one of them is 1."
      ],
      "metadata": {
        "id": "65m_eq8Jgdus"
      }
    },
    {
      "cell_type": "code",
      "source": [
        "# when they are equal.  Question no. 12\n",
        "zrr = np.array([2,2,2])\n",
        "arr = np.array([1,2,3])\n",
        "result = zrr*arr\n",
        "print(result)\n",
        "# B. one of them is 1\n",
        "zrr = np.array([5])\n",
        "arr = np.array([1,2,3])\n",
        "result = zrr*arr\n",
        "print(result)\n",
        "\n",
        "# zrr = np.array([1,2,3,4,5])\n",
        "# arr = np.array([1,2,3])\n",
        "# result = zrr*arr              ValueError: operands could not be broadcast together with shapes (5,) (3,)\n",
        "# print(result)"
      ],
      "metadata": {
        "colab": {
          "base_uri": "https://localhost:8080/"
        },
        "id": "9bZDKZ7dgdZG",
        "outputId": "5b6e6aac-b915-4ced-9322-5ad02cf144ee"
      },
      "execution_count": null,
      "outputs": [
        {
          "output_type": "stream",
          "name": "stdout",
          "text": [
            "[2 4 6]\n",
            "[ 5 10 15]\n"
          ]
        }
      ]
    },
    {
      "cell_type": "code",
      "source": [
        "# Broadcasting                Question no. 12\n",
        "zrr = np.array([2,2,2])"
      ],
      "metadata": {
        "id": "14e2XMqYl36C"
      },
      "execution_count": null,
      "outputs": []
    },
    {
      "cell_type": "markdown",
      "source": [
        "**Q7.** Create a Python nested dictionary to represent hierarchical information. We want to store record of students and their marks."
      ],
      "metadata": {
        "id": "tfoF4Ig2sb9K"
      }
    },
    {
      "cell_type": "code",
      "source": [
        "# # 1. 2022\n",
        "#       1. Branch 1\n",
        "#           1. Roll Number: 1, Name: N,             ## four hiearchies\n",
        "#               1. Marks: Maths: 100, English: 70 …\n",
        "#       2. Branch 2\n",
        "\n",
        "database = {2024: {\"Branch 1\": {\n",
        "    1: {\"Name\": \"Simran\", \"Marks\": {\"P\":44, \"C\":37, \"M\":48}}\n",
        "}, \"Branch 2\": {}},\n",
        "\n",
        "2025: {\"Branch 1\":{}, \n",
        "       \"Branch 2\": {}\n",
        "       },\n",
        "\n",
        "2026: {\"Branch 1\":{}, \n",
        "       \"Branch 2\": {}\n",
        "       }}  "
      ],
      "metadata": {
        "id": "y7_e5jLGrEs0"
      },
      "execution_count": 10,
      "outputs": []
    },
    {
      "cell_type": "markdown",
      "source": [
        "**Q8** Store the same information using Python classes. We have an overall database which is a list of year objects. Each year contains a list of branches. Each branch contains a list of students. Each student has some properties like name, roll number and has marks in some subjects."
      ],
      "metadata": {
        "id": "9hQfNVofsrP3"
      }
    },
    {
      "cell_type": "code",
      "source": [
        "class student:\n",
        "    def init(self, name, roll_number, marks):\n",
        "        self.name = name\n",
        "        self.roll_number = roll_number\n",
        "        self.marks = marks\n",
        "class Database:\n",
        "    def init(self, years):\n",
        "        self.years = years\n",
        "class year:\n",
        "    def init(self, year, branches):\n",
        "        self.year = year\n",
        "        self.branches = branches\n",
        "\n",
        "class branch:\n",
        "    def init(self, branch_name, students):\n",
        "        self.branch_name = branch_name\n",
        "        self.students = students\n",
        "\n",
        "Simran = (\"Simran\", 1, [44,37,48])\n",
        "Simran = student(Simran)\n",
        "Lavanya = (\"Lavanya\", 2,[80, 32, 8])\n",
        "Lavanya = student(Lavanya)\n"
      ],
      "metadata": {
        "id": "0zjaD-TRsq7j"
      },
      "execution_count": null,
      "outputs": []
    },
    {
      "cell_type": "markdown",
      "source": [
        "**Q8.** Finding the highest element in a list requires one pass of the array. Finding the second highest element requires 2 passes of the the array. Using this method, what is the time complexity of finding the median of the array? Can you suggest a better method? Can you implement both these methods in Python and compare against numpy.median routine in terms of time?\n",
        "\n",
        "**Ans.** Using this k-pass method, time complexity would be c*(n + n-1 + n-1 +........1) => $O(n^{2})$.\n",
        "\n",
        "Using Quick Sort algorithm, we can reduce the time complexity to n.logn, and find the middle element/s of the sorted list, hence the median."
      ],
      "metadata": {
        "id": "0rQvuY3dxGI5"
      }
    },
    {
      "cell_type": "code",
      "source": [
        "## Finding the highest element in a list\n",
        "lst = [7,8,1,2,3,9,10,4,5,6]\n",
        "ans = lst[0]\n",
        "for i in lst:\n",
        "    if(i>ans):\n",
        "        ans = i\n",
        "print(ans)    \n",
        "\n",
        "## Finding the 2nd highest element in a list, (ineffecient two pass method)\n",
        "lst.remove(ans)\n",
        "snd = lst[0]\n",
        "for i in lst:\n",
        "    if(i>snd):\n",
        "        snd = i\n",
        "print(snd)\n",
        "\n",
        "\n",
        "## Median is k-th highest or k-th lowest element of the list, or the average of both dependeing on length of list (odd/even).\n",
        "## Here, I take an array of length 10, even so median will be the average of len//2 th and (len//2 -1)th element.\n"
      ],
      "metadata": {
        "colab": {
          "base_uri": "https://localhost:8080/"
        },
        "id": "vIuEbsnWxLFT",
        "outputId": "45bb1abe-6055-485d-a852-30d944c58a9b"
      },
      "execution_count": 1,
      "outputs": [
        {
          "output_type": "stream",
          "name": "stdout",
          "text": [
            "10\n",
            "9\n"
          ]
        }
      ]
    },
    {
      "cell_type": "code",
      "source": [
        "lst = [7,8,1,2,3,9,10,4,5,6]\n",
        "mist = [0,1,1,0,2,2,1,1,2,0]\n",
        "def find_median(array):\n",
        "    size = len(array)\n",
        "    mid = int(size / 2)\n",
        "    if size % 2 == 0:\n",
        "        return (array[mid - 1] + array[mid]) / 2.0\n",
        "    else:\n",
        "        return array[mid]\n",
        "\n",
        "def partition(array, begin, end):\n",
        "    pivot = array[begin]\n",
        "    low = begin + 1\n",
        "    high = end\n",
        "    while True:\n",
        "        while low <= high and array[high] >= pivot:\n",
        "            high = high - 1\n",
        "\n",
        "        while low <= high and array[low] <= pivot:\n",
        "            low = low + 1\n",
        "\n",
        "        if low <= high:\n",
        "            array[low], array[high] = array[high], array[low]\n",
        "        else:\n",
        "            break\n",
        "    array[begin], array[high] = array[high], array[begin]\n",
        "    return high\n",
        "\n",
        "\n",
        "def quick_sort(array, begin, end):\n",
        "    if begin >= end:\n",
        "        return\n",
        "\n",
        "    pivot = partition(array, begin, end)\n",
        "    quick_sort(array, begin, pivot - 1)\n",
        "    quick_sort(array, pivot + 1, end)\n",
        "\n",
        "quick_sort(lst, 0, len(lst) - 1)\n",
        "quick_sort(mist, 0, len(mist) - 1)\n",
        "\n",
        "median1 = find_median(lst)\n",
        "median2 = find_median(mist)\n",
        "\n",
        "print( \"For\", lst,\"Median is:\",  median1)\n",
        "print(\"For\", mist,\"Median is:\",  median2)\n",
        "            "
      ],
      "metadata": {
        "colab": {
          "base_uri": "https://localhost:8080/"
        },
        "id": "xvoTpJLMYaLv",
        "outputId": "16ff66ae-b888-4f41-be83-30dff1ccc6e4"
      },
      "execution_count": 4,
      "outputs": [
        {
          "output_type": "stream",
          "name": "stdout",
          "text": [
            "For [1, 2, 3, 4, 5, 6, 7, 8, 9, 10] Median is: 5.5\n",
            "For [0, 0, 0, 1, 1, 1, 1, 2, 2, 2] Median is: 1.0\n"
          ]
        }
      ]
    },
    {
      "cell_type": "markdown",
      "source": [
        "**Q13** Write a function to compute the argmin of a numpy array. The function should take a numpy array as input and return the index of the minimum element. You can use the np.argmin function to verify your solution."
      ],
      "metadata": {
        "id": "nfRtZ5NllMbx"
      }
    },
    {
      "cell_type": "code",
      "source": [
        "# Write a function to compute the argmin of a numpy array\n",
        "import numpy as np\n",
        "def minfun(arr):\n",
        "\n",
        "    ans = 0\n",
        "    minim = float(\"inf\")\n",
        "\n",
        "    shape = arr.shape\n",
        "    for i in np.ndindex(shape):\n",
        "        if arr[i] < minim:\n",
        "            ans = i\n",
        "            minim = arr[i]\n",
        "    return ans\n",
        "\n",
        "# Checking the correctness\n",
        "inparr = np.array([[8,10,6,7,9,14], [1,0,6,5,4,3]] )\n",
        "\n",
        "print(minfun(inparr))       # prints (1,1), index of int element 0\n",
        "print(np.argmin(inparr))    # prints 7, index of int element 0 when counted row by row.\n"
      ],
      "metadata": {
        "colab": {
          "base_uri": "https://localhost:8080/"
        },
        "id": "qzTUv2Z2lQ_d",
        "outputId": "3c1985a2-d07e-4f2e-903a-58983a344a76"
      },
      "execution_count": 8,
      "outputs": [
        {
          "output_type": "stream",
          "name": "stdout",
          "text": [
            "(1, 1)\n",
            "7\n"
          ]
        }
      ]
    }
  ]
}